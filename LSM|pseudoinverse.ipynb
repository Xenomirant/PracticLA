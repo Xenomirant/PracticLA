{
 "cells": [
  {
   "cell_type": "code",
   "execution_count": 8,
   "id": "c74c9393-0fb5-4270-8240-9eab491d3f7c",
   "metadata": {},
   "outputs": [],
   "source": [
    "import numpy as np\n",
    "import scipy"
   ]
  },
  {
   "cell_type": "code",
   "execution_count": 2,
   "id": "f0a1793d-0fbf-4f73-becf-8c5f86036e23",
   "metadata": {},
   "outputs": [
    {
     "data": {
      "text/plain": [
       "186"
      ]
     },
     "execution_count": 2,
     "metadata": {},
     "output_type": "execute_result"
    }
   ],
   "source": [
    "17*26 - 16**2"
   ]
  },
  {
   "cell_type": "code",
   "execution_count": 3,
   "id": "ec1d343c-a147-4fbd-8a2d-22246b498716",
   "metadata": {},
   "outputs": [
    {
     "data": {
      "text/plain": [
       "array([[  4,  19],\n",
       "       [ 14,  20],\n",
       "       [ 36, -15]])"
      ]
     },
     "execution_count": 3,
     "metadata": {},
     "output_type": "execute_result"
    }
   ],
   "source": [
    "np.array([[2, 3], [3, 4], [2, 1]]) @ np.array([[26, -16], [-16, 17]])"
   ]
  },
  {
   "cell_type": "code",
   "execution_count": 6,
   "id": "7a4d9ff3-81e4-4259-88b1-68bdd617fc96",
   "metadata": {},
   "outputs": [
    {
     "data": {
      "text/plain": [
       "array([142, 218, 162])"
      ]
     },
     "execution_count": 6,
     "metadata": {},
     "output_type": "execute_result"
    }
   ],
   "source": [
    "np.array([[2, 3], [3, 4], [2, 1]]) @ np.array([[26, -16], [-16, 17]]) @ np.array([7, 6])"
   ]
  },
  {
   "cell_type": "code",
   "execution_count": null,
   "id": "d9571c18-46c4-4a3b-8462-a51c6d406c51",
   "metadata": {},
   "outputs": [],
   "source": []
  },
  {
   "cell_type": "markdown",
   "id": "f9d1c2c2-71f5-48f0-9951-abd1164ba7fc",
   "metadata": {},
   "source": [
    "## 3"
   ]
  },
  {
   "cell_type": "code",
   "execution_count": 7,
   "id": "09fd5adb-ad3a-4fb3-ad45-90b64ba9933d",
   "metadata": {},
   "outputs": [
    {
     "data": {
      "text/plain": [
       "array([[ 1, -3,  0,  1],\n",
       "       [ 0,  2, -3,  0],\n",
       "       [ 1, -2,  1,  1],\n",
       "       [ 1,  0, -2,  1]])"
      ]
     },
     "execution_count": 7,
     "metadata": {},
     "output_type": "execute_result"
    }
   ],
   "source": [
    "np.array([[1, -3, 0, 1], [0, 2, -3, 0], [1, -2, 1, 1], [1, 0, -2, 1]])"
   ]
  },
  {
   "cell_type": "code",
   "execution_count": 11,
   "id": "925990a0-365a-4ac0-a441-5bb08ff1a1cd",
   "metadata": {},
   "outputs": [
    {
     "data": {
      "text/plain": [
       "(array([[ 1.        ,  0.        ,  0.        ,  0.        ],\n",
       "        [ 0.        ,  0.66666667,  1.        ,  0.        ],\n",
       "        [ 1.        ,  0.33333333, -1.        ,  1.        ],\n",
       "        [ 1.        ,  1.        ,  0.        ,  0.        ]]),\n",
       " array([[ 1.        , -3.        ,  0.        ,  1.        ],\n",
       "        [ 0.        ,  3.        , -2.        ,  0.        ],\n",
       "        [ 0.        ,  0.        , -1.66666667,  0.        ],\n",
       "        [ 0.        ,  0.        ,  0.        ,  0.        ]]))"
      ]
     },
     "execution_count": 11,
     "metadata": {},
     "output_type": "execute_result"
    }
   ],
   "source": [
    "scipy.linalg.lu(np.array([[1, -3, 0, 1], [0, 2, -3, 0], [1, -2, 1, 1], [1, 0, -2, 1]]), permute_l=True)"
   ]
  },
  {
   "cell_type": "code",
   "execution_count": 17,
   "id": "a39f0b1b-d5c1-42c9-9c92-837002f920be",
   "metadata": {},
   "outputs": [
    {
     "data": {
      "text/plain": [
       "(array([[ 1.        ,  0.        ,  0.        ,  0.        ],\n",
       "        [ 0.        ,  0.66666667,  1.        ,  0.        ],\n",
       "        [ 1.        ,  0.33333333, -1.        ,  1.        ],\n",
       "        [ 1.        ,  1.        ,  0.        ,  0.        ]]),\n",
       " array([[ 1.        , -3.        ,  0.        ,  1.        ,  1.        ],\n",
       "        [ 0.        ,  3.        , -2.        ,  0.        ,  7.        ],\n",
       "        [ 0.        ,  0.        , -1.66666667,  0.        , -5.66666667],\n",
       "        [ 0.        ,  0.        ,  0.        ,  0.        , -9.        ]]))"
      ]
     },
     "execution_count": 17,
     "metadata": {},
     "output_type": "execute_result"
    }
   ],
   "source": [
    "scipy.linalg.lu(np.array([[1, -3, 0, 1, 1], [0, 2, -3, 0, -1], [1, -2, 1, 1, 0], [1, 0, -2, 1, 8]]), permute_l=True)"
   ]
  },
  {
   "cell_type": "code",
   "execution_count": 20,
   "id": "3efa97f7-3f84-4a65-a9fe-e8b0fa100453",
   "metadata": {},
   "outputs": [
    {
     "data": {
      "text/plain": [
       "(array([2.9, 1.6, 0.4, 2.9]),\n",
       " array([], dtype=float64),\n",
       " 3,\n",
       " array([4.98469619e+00, 3.41085004e+00, 7.20351244e-01, 3.21514618e-17]))"
      ]
     },
     "execution_count": 20,
     "metadata": {},
     "output_type": "execute_result"
    }
   ],
   "source": [
    "scipy.linalg.lstsq(np.array([[1, -3, 0, 1], [0, 2, -3, 0], [1, -2, 1, 1], [1, 0, -2, 1]]), np.array([1, -1, 0, 8]))"
   ]
  },
  {
   "cell_type": "code",
   "execution_count": 28,
   "id": "6932465c-783c-4dfb-8c37-8a221fa358b6",
   "metadata": {},
   "outputs": [
    {
     "name": "stdout",
     "output_type": "stream",
     "text": [
      "Matrix([[1, 0, 0, 1], [0, 1, 0, 0], [0, 0, 1, 0], [0, 0, 0, 0]]) (0, 1, 2)\n"
     ]
    }
   ],
   "source": [
    "import sympy as sp\n",
    "\n",
    "m = sp.Matrix([[1, -3, 0, 1], \n",
    "               [0, 2, -3, 0], \n",
    "               [1, -2, 1, 1], \n",
    "               [1, 0, -2, 1]])\n",
    "\n",
    "m_rref, pivots = m.rref() # Compute reduced row echelon form (rref).\n",
    "\n",
    "print(m_rref, pivots)"
   ]
  },
  {
   "cell_type": "code",
   "execution_count": 33,
   "id": "88cbd951-2423-4e27-ad03-388ae3d8939f",
   "metadata": {},
   "outputs": [
    {
     "data": {
      "text/plain": [
       "array([[-0.4       , -0.1       ,  0.5       ,  0.4       ],\n",
       "       [-0.6       , -0.06666667,  0.33333333,  0.26666667],\n",
       "       [-0.4       , -0.26666667,  0.33333333,  0.06666667],\n",
       "       [-0.4       , -0.1       ,  0.5       ,  0.4       ]])"
      ]
     },
     "execution_count": 33,
     "metadata": {},
     "output_type": "execute_result"
    }
   ],
   "source": [
    "np.linalg.pinv(np.array([[1, 0, 0, 1], [0, 1, 0, 0], [0, 0, 1, 0]])) @ np.linalg.pinv(np.array([[1, -3, 0, ], \n",
    "               [0, 2, -3, ], \n",
    "               [1, -2, 1, ], \n",
    "               [1, 0, -2, ]]))"
   ]
  },
  {
   "cell_type": "code",
   "execution_count": null,
   "id": "147064ce-9c59-4481-a7f3-d9f64fe5b5da",
   "metadata": {},
   "outputs": [],
   "source": []
  },
  {
   "cell_type": "code",
   "execution_count": 13,
   "id": "3639a5a6-c790-4871-989d-609f076c16bc",
   "metadata": {},
   "outputs": [],
   "source": [
    "a = np.array([[1, -3, 0, 1], [0, 2, -3, 0], [1, -2, 1, 1], [1, 0, -2, 1]])"
   ]
  },
  {
   "cell_type": "code",
   "execution_count": 15,
   "id": "a483405c-9e5b-4ee0-a770-b6505cabc331",
   "metadata": {},
   "outputs": [
    {
     "data": {
      "text/plain": [
       "array([3.2875, 2.525 , 2.975 , 3.2875])"
      ]
     },
     "execution_count": 15,
     "metadata": {},
     "output_type": "execute_result"
    }
   ],
   "source": [
    "a.T @ np.linalg.inv(a @ a.T) @ np.array([1, -1, 0, 8])"
   ]
  },
  {
   "cell_type": "code",
   "execution_count": 27,
   "id": "4f0df3fd-39be-4224-84d6-01d20a8176e1",
   "metadata": {},
   "outputs": [
    {
     "data": {
      "text/plain": [
       "array([2.9, 1.6, 0.4, 2.9])"
      ]
     },
     "execution_count": 27,
     "metadata": {},
     "output_type": "execute_result"
    }
   ],
   "source": [
    "np.linalg.pinv(a) @ np.array([1, -1, 0, 8])"
   ]
  },
  {
   "cell_type": "markdown",
   "id": "65077583-c5b3-4976-897b-2aa8c9ee5157",
   "metadata": {},
   "source": [
    "## 4"
   ]
  },
  {
   "cell_type": "code",
   "execution_count": 40,
   "id": "b2250c9b-388c-42ff-bf2f-41d3b5db6d22",
   "metadata": {},
   "outputs": [
    {
     "name": "stdout",
     "output_type": "stream",
     "text": [
      "Matrix([[1, 0, 1/2], [0, 1, -3/2], [0, 0, 0]]) (0, 1)\n"
     ]
    }
   ],
   "source": [
    "m = sp.Matrix([[1, 1, -1], \n",
    "               [0, 2, -3], \n",
    "               [1, -1, 2]])\n",
    "\n",
    "m_rref, pivots = m.rref() # Compute reduced row echelon form (rref).\n",
    "\n",
    "print(m_rref, pivots)"
   ]
  },
  {
   "cell_type": "code",
   "execution_count": 60,
   "id": "278c7a5c-71d4-4671-a260-dda6284fa74b",
   "metadata": {},
   "outputs": [],
   "source": [
    "G = np.array([[1, 0, 1/2], \n",
    "             [0, 1, -3/2]])\n",
    "\n",
    "F = np.array([[1, 1], \n",
    "             [0, 2], \n",
    "             [1, -1]])"
   ]
  },
  {
   "cell_type": "code",
   "execution_count": 61,
   "id": "c2f77155-5234-445e-8a4f-bcda1420fda9",
   "metadata": {},
   "outputs": [
    {
     "data": {
      "text/plain": [
       "array([[ 1.,  1., -1.],\n",
       "       [ 0.,  2., -3.],\n",
       "       [ 1., -1.,  2.]])"
      ]
     },
     "execution_count": 61,
     "metadata": {},
     "output_type": "execute_result"
    }
   ],
   "source": [
    "F@G"
   ]
  },
  {
   "cell_type": "code",
   "execution_count": 65,
   "id": "e504872c-9072-44d3-9c98-030125a4cadf",
   "metadata": {},
   "outputs": [
    {
     "data": {
      "text/latex": [
       "$\\displaystyle \\left[\\begin{matrix}0.214285714285714\\\\0.357142857142857\\\\-0.428571428571429\\end{matrix}\\right]$"
      ],
      "text/plain": [
       "Matrix([\n",
       "[ 0.214285714285714],\n",
       "[ 0.357142857142857],\n",
       "[-0.428571428571429]])"
      ]
     },
     "execution_count": 65,
     "metadata": {},
     "output_type": "execute_result"
    }
   ],
   "source": [
    "sp.Matrix([[1, 0, 1/2], \n",
    "             [0, 1, -3/2]]).pinv() @ sp.Matrix([[1, 1], \n",
    "  [0, 2], \n",
    "  [1, -1]]).pinv() @ sp.Matrix([1, 2, -1])"
   ]
  },
  {
   "cell_type": "code",
   "execution_count": 63,
   "id": "fcdc04bf-9576-4ada-8a2c-8cd96208a8bc",
   "metadata": {},
   "outputs": [
    {
     "data": {
      "text/latex": [
       "$\\displaystyle \\left[\\begin{matrix}\\frac{1}{2} & 0 & \\frac{1}{2}\\\\\\frac{1}{6} & \\frac{1}{3} & - \\frac{1}{6}\\end{matrix}\\right]$"
      ],
      "text/plain": [
       "Matrix([\n",
       "[1/2,   0,  1/2],\n",
       "[1/6, 1/3, -1/6]])"
      ]
     },
     "execution_count": 63,
     "metadata": {},
     "output_type": "execute_result"
    }
   ],
   "source": [
    "sp.Matrix([[1, 1], \n",
    "  [0, 2], \n",
    "  [1, -1]]).pinv()"
   ]
  },
  {
   "cell_type": "code",
   "execution_count": 55,
   "id": "d1d30c10-7e09-4fa0-944b-a5e85e4e288e",
   "metadata": {},
   "outputs": [
    {
     "data": {
      "text/plain": [
       "array([[ 5.00000000e-01,  7.14285714e-02,  4.28571429e-01],\n",
       "       [ 1.66666667e-01,  1.19047619e-01,  4.76190476e-02],\n",
       "       [-1.45386348e-17, -1.42857143e-01,  1.42857143e-01]])"
      ]
     },
     "execution_count": 55,
     "metadata": {},
     "output_type": "execute_result"
    }
   ],
   "source": [
    "np.linalg.pinv(G) @ np.linalg.pinv(F)"
   ]
  },
  {
   "cell_type": "code",
   "execution_count": null,
   "id": "28feb17e-12d4-411d-a484-923c1ff096d3",
   "metadata": {},
   "outputs": [],
   "source": []
  },
  {
   "cell_type": "markdown",
   "id": "94a993e3-754c-462a-bba9-de98f8e6a031",
   "metadata": {},
   "source": [
    "## 5"
   ]
  },
  {
   "cell_type": "code",
   "execution_count": 74,
   "id": "a10faef9-f603-42d0-8e5f-abc164fedc36",
   "metadata": {},
   "outputs": [],
   "source": [
    "import pandas as pd\n",
    "from sklearn.model_selection import train_test_split\n",
    "import re"
   ]
  },
  {
   "cell_type": "code",
   "execution_count": 149,
   "id": "e39c6f90-8805-4150-b775-18fe9e5ec421",
   "metadata": {
    "scrolled": true
   },
   "outputs": [],
   "source": [
    "df = pd.read_excel(\"data/Bitcoin Historical Data_20240130.xlsx\", )"
   ]
  },
  {
   "cell_type": "code",
   "execution_count": 150,
   "id": "12ea8c42-567f-4a72-8131-fef9c2f97e8f",
   "metadata": {},
   "outputs": [
    {
     "data": {
      "text/html": [
       "<div>\n",
       "<style scoped>\n",
       "    .dataframe tbody tr th:only-of-type {\n",
       "        vertical-align: middle;\n",
       "    }\n",
       "\n",
       "    .dataframe tbody tr th {\n",
       "        vertical-align: top;\n",
       "    }\n",
       "\n",
       "    .dataframe thead th {\n",
       "        text-align: right;\n",
       "    }\n",
       "</style>\n",
       "<table border=\"1\" class=\"dataframe\">\n",
       "  <thead>\n",
       "    <tr style=\"text-align: right;\">\n",
       "      <th></th>\n",
       "      <th>Date</th>\n",
       "      <th>Price</th>\n",
       "    </tr>\n",
       "  </thead>\n",
       "  <tbody>\n",
       "    <tr>\n",
       "      <th>0</th>\n",
       "      <td>2024-01-30</td>\n",
       "      <td>43,296.7</td>\n",
       "    </tr>\n",
       "    <tr>\n",
       "      <th>1</th>\n",
       "      <td>2024-01-29</td>\n",
       "      <td>43,299.8</td>\n",
       "    </tr>\n",
       "    <tr>\n",
       "      <th>2</th>\n",
       "      <td>2024-01-28</td>\n",
       "      <td>42,030.7</td>\n",
       "    </tr>\n",
       "    <tr>\n",
       "      <th>3</th>\n",
       "      <td>2024-01-27</td>\n",
       "      <td>42,120.9</td>\n",
       "    </tr>\n",
       "    <tr>\n",
       "      <th>4</th>\n",
       "      <td>2024-01-26</td>\n",
       "      <td>41,811.3</td>\n",
       "    </tr>\n",
       "    <tr>\n",
       "      <th>5</th>\n",
       "      <td>2024-01-25</td>\n",
       "      <td>39,935.7</td>\n",
       "    </tr>\n",
       "    <tr>\n",
       "      <th>6</th>\n",
       "      <td>2024-01-24</td>\n",
       "      <td>40,086.0</td>\n",
       "    </tr>\n",
       "    <tr>\n",
       "      <th>7</th>\n",
       "      <td>2024-01-23</td>\n",
       "      <td>39,888.8</td>\n",
       "    </tr>\n",
       "    <tr>\n",
       "      <th>8</th>\n",
       "      <td>2024-01-22</td>\n",
       "      <td>39,556.4</td>\n",
       "    </tr>\n",
       "    <tr>\n",
       "      <th>9</th>\n",
       "      <td>2024-01-21</td>\n",
       "      <td>41,583.2</td>\n",
       "    </tr>\n",
       "    <tr>\n",
       "      <th>10</th>\n",
       "      <td>2024-01-20</td>\n",
       "      <td>41,695.4</td>\n",
       "    </tr>\n",
       "    <tr>\n",
       "      <th>11</th>\n",
       "      <td>2024-01-19</td>\n",
       "      <td>41,648.0</td>\n",
       "    </tr>\n",
       "    <tr>\n",
       "      <th>12</th>\n",
       "      <td>2024-01-18</td>\n",
       "      <td>41,292.7</td>\n",
       "    </tr>\n",
       "    <tr>\n",
       "      <th>13</th>\n",
       "      <td>2024-01-17</td>\n",
       "      <td>42,768.7</td>\n",
       "    </tr>\n",
       "    <tr>\n",
       "      <th>14</th>\n",
       "      <td>2024-01-16</td>\n",
       "      <td>43,145.5</td>\n",
       "    </tr>\n",
       "    <tr>\n",
       "      <th>15</th>\n",
       "      <td>2024-01-15</td>\n",
       "      <td>42,510.7</td>\n",
       "    </tr>\n",
       "    <tr>\n",
       "      <th>16</th>\n",
       "      <td>2024-01-14</td>\n",
       "      <td>41,746.1</td>\n",
       "    </tr>\n",
       "    <tr>\n",
       "      <th>17</th>\n",
       "      <td>2024-01-13</td>\n",
       "      <td>42,851.3</td>\n",
       "    </tr>\n",
       "    <tr>\n",
       "      <th>18</th>\n",
       "      <td>2024-01-12</td>\n",
       "      <td>42,835.9</td>\n",
       "    </tr>\n",
       "    <tr>\n",
       "      <th>19</th>\n",
       "      <td>2024-01-11</td>\n",
       "      <td>46,348.2</td>\n",
       "    </tr>\n",
       "    <tr>\n",
       "      <th>20</th>\n",
       "      <td>2024-01-10</td>\n",
       "      <td>46,629.3</td>\n",
       "    </tr>\n",
       "    <tr>\n",
       "      <th>21</th>\n",
       "      <td>2024-01-09</td>\n",
       "      <td>46,129.0</td>\n",
       "    </tr>\n",
       "    <tr>\n",
       "      <th>22</th>\n",
       "      <td>2024-01-08</td>\n",
       "      <td>46,962.2</td>\n",
       "    </tr>\n",
       "    <tr>\n",
       "      <th>23</th>\n",
       "      <td>2024-01-07</td>\n",
       "      <td>43,927.3</td>\n",
       "    </tr>\n",
       "    <tr>\n",
       "      <th>24</th>\n",
       "      <td>2024-01-06</td>\n",
       "      <td>43,967.9</td>\n",
       "    </tr>\n",
       "    <tr>\n",
       "      <th>25</th>\n",
       "      <td>2024-01-05</td>\n",
       "      <td>44,156.9</td>\n",
       "    </tr>\n",
       "    <tr>\n",
       "      <th>26</th>\n",
       "      <td>2024-01-04</td>\n",
       "      <td>44,157.0</td>\n",
       "    </tr>\n",
       "    <tr>\n",
       "      <th>27</th>\n",
       "      <td>2024-01-03</td>\n",
       "      <td>42,836.1</td>\n",
       "    </tr>\n",
       "    <tr>\n",
       "      <th>28</th>\n",
       "      <td>2024-01-02</td>\n",
       "      <td>44,943.7</td>\n",
       "    </tr>\n",
       "    <tr>\n",
       "      <th>29</th>\n",
       "      <td>2024-01-01</td>\n",
       "      <td>44,183.4</td>\n",
       "    </tr>\n",
       "    <tr>\n",
       "      <th>30</th>\n",
       "      <td>2023-12-31</td>\n",
       "      <td>42,272.5</td>\n",
       "    </tr>\n",
       "    <tr>\n",
       "      <th>31</th>\n",
       "      <td>2023-12-30</td>\n",
       "      <td>42,136.7</td>\n",
       "    </tr>\n",
       "  </tbody>\n",
       "</table>\n",
       "</div>"
      ],
      "text/plain": [
       "         Date     Price\n",
       "0  2024-01-30  43,296.7\n",
       "1  2024-01-29  43,299.8\n",
       "2  2024-01-28  42,030.7\n",
       "3  2024-01-27  42,120.9\n",
       "4  2024-01-26  41,811.3\n",
       "5  2024-01-25  39,935.7\n",
       "6  2024-01-24  40,086.0\n",
       "7  2024-01-23  39,888.8\n",
       "8  2024-01-22  39,556.4\n",
       "9  2024-01-21  41,583.2\n",
       "10 2024-01-20  41,695.4\n",
       "11 2024-01-19  41,648.0\n",
       "12 2024-01-18  41,292.7\n",
       "13 2024-01-17  42,768.7\n",
       "14 2024-01-16  43,145.5\n",
       "15 2024-01-15  42,510.7\n",
       "16 2024-01-14  41,746.1\n",
       "17 2024-01-13  42,851.3\n",
       "18 2024-01-12  42,835.9\n",
       "19 2024-01-11  46,348.2\n",
       "20 2024-01-10  46,629.3\n",
       "21 2024-01-09  46,129.0\n",
       "22 2024-01-08  46,962.2\n",
       "23 2024-01-07  43,927.3\n",
       "24 2024-01-06  43,967.9\n",
       "25 2024-01-05  44,156.9\n",
       "26 2024-01-04  44,157.0\n",
       "27 2024-01-03  42,836.1\n",
       "28 2024-01-02  44,943.7\n",
       "29 2024-01-01  44,183.4\n",
       "30 2023-12-31  42,272.5\n",
       "31 2023-12-30  42,136.7"
      ]
     },
     "execution_count": 150,
     "metadata": {},
     "output_type": "execute_result"
    }
   ],
   "source": [
    "df"
   ]
  },
  {
   "cell_type": "code",
   "execution_count": 151,
   "id": "e0ea371d-1c69-43c6-b7c0-00ad98502b46",
   "metadata": {},
   "outputs": [],
   "source": [
    "df[\"Price\"] = df[\"Price\"].apply(lambda x: re.sub(\",\", \"\", x))"
   ]
  },
  {
   "cell_type": "code",
   "execution_count": 152,
   "id": "fc6ba819-28fc-4df7-b5cb-8840052ab820",
   "metadata": {},
   "outputs": [],
   "source": [
    "df[\"Price\"] = df[\"Price\"].astype(\"float\")"
   ]
  },
  {
   "cell_type": "code",
   "execution_count": 153,
   "id": "07d07c2f-006c-4685-97b6-e07dda1dcfaa",
   "metadata": {},
   "outputs": [
    {
     "data": {
      "text/plain": [
       "<Axes: >"
      ]
     },
     "execution_count": 153,
     "metadata": {},
     "output_type": "execute_result"
    },
    {
     "data": {
      "image/png": "[encoded data removed]",
      "text/plain": [
       "<Figure size 640x480 with 1 Axes>"
      ]
     },
     "metadata": {},
     "output_type": "display_data"
    }
   ],
   "source": [
    "df[\"Price\"].plot()"
   ]
  },
  {
   "cell_type": "code",
   "execution_count": 303,
   "id": "29902562-8885-48aa-949b-71860e783577",
   "metadata": {},
   "outputs": [],
   "source": [
    "train, test = train_test_split(df[[\"Date\", \"Price\"]], train_size=.8)"
   ]
  },
  {
   "cell_type": "markdown",
   "id": "ba40dd19-e905-43e1-b89a-f5751b41d3f9",
   "metadata": {},
   "source": [
    "### Price 04.02 Night\n",
    "\n",
    "$42,632.21 "
   ]
  },
  {
   "cell_type": "code",
   "execution_count": 304,
   "id": "321fe345-699e-4339-a950-8d7c8f1fb582",
   "metadata": {},
   "outputs": [],
   "source": [
    "time = train.index.sort_values()[-1] + 7"
   ]
  },
  {
   "cell_type": "code",
   "execution_count": 305,
   "id": "cc9e3d52-ac50-4dae-b5ba-898a08a2a29b",
   "metadata": {},
   "outputs": [
    {
     "data": {
      "text/plain": [
       "38"
      ]
     },
     "execution_count": 305,
     "metadata": {},
     "output_type": "execute_result"
    }
   ],
   "source": [
    "time"
   ]
  },
  {
   "cell_type": "code",
   "execution_count": 306,
   "id": "890019b0-88a0-4c5d-bdc8-d6300e89928d",
   "metadata": {},
   "outputs": [],
   "source": [
    "from sklearn.linear_model import LinearRegression\n",
    "from sklearn.dummy import DummyRegressor\n"
   ]
  },
  {
   "cell_type": "code",
   "execution_count": null,
   "id": "f77d46ff-c629-496c-a276-3d3186b5fc03",
   "metadata": {},
   "outputs": [],
   "source": []
  },
  {
   "cell_type": "code",
   "execution_count": 307,
   "id": "9bfc9013-1d20-472e-ad50-a48723dfa108",
   "metadata": {},
   "outputs": [],
   "source": [
    "preds = {}"
   ]
  },
  {
   "cell_type": "code",
   "execution_count": 308,
   "id": "d5edb667-7a8b-4d5d-9b00-281b00fddb60",
   "metadata": {},
   "outputs": [],
   "source": [
    "model1 = DummyRegressor()"
   ]
  },
  {
   "cell_type": "code",
   "execution_count": 309,
   "id": "80ec49f6-d505-4ee1-8ecf-5bdfc8dcfd48",
   "metadata": {},
   "outputs": [
    {
     "data": {
      "text/html": [
       "<style>#sk-container-id-23 {color: black;}#sk-container-id-23 pre{padding: 0;}#sk-container-id-23 div.sk-toggleable {background-color: white;}#sk-container-id-23 label.sk-toggleable__label {cursor: pointer;display: block;width: 100%;margin-bottom: 0;padding: 0.3em;box-sizing: border-box;text-align: center;}#sk-container-id-23 label.sk-toggleable__label-arrow:before {content: \"▸\";float: left;margin-right: 0.25em;color: #696969;}#sk-container-id-23 label.sk-toggleable__label-arrow:hover:before {color: black;}#sk-container-id-23 div.sk-estimator:hover label.sk-toggleable__label-arrow:before {color: black;}#sk-container-id-23 div.sk-toggleable__content {max-height: 0;max-width: 0;overflow: hidden;text-align: left;background-color: #f0f8ff;}#sk-container-id-23 div.sk-toggleable__content pre {margin: 0.2em;color: black;border-radius: 0.25em;background-color: #f0f8ff;}#sk-container-id-23 input.sk-toggleable__control:checked~div.sk-toggleable__content {max-height: 200px;max-width: 100%;overflow: auto;}#sk-container-id-23 input.sk-toggleable__control:checked~label.sk-toggleable__label-arrow:before {content: \"▾\";}#sk-container-id-23 div.sk-estimator input.sk-toggleable__control:checked~label.sk-toggleable__label {background-color: #d4ebff;}#sk-container-id-23 div.sk-label input.sk-toggleable__control:checked~label.sk-toggleable__label {background-color: #d4ebff;}#sk-container-id-23 input.sk-hidden--visually {border: 0;clip: rect(1px 1px 1px 1px);clip: rect(1px, 1px, 1px, 1px);height: 1px;margin: -1px;overflow: hidden;padding: 0;position: absolute;width: 1px;}#sk-container-id-23 div.sk-estimator {font-family: monospace;background-color: #f0f8ff;border: 1px dotted black;border-radius: 0.25em;box-sizing: border-box;margin-bottom: 0.5em;}#sk-container-id-23 div.sk-estimator:hover {background-color: #d4ebff;}#sk-container-id-23 div.sk-parallel-item::after {content: \"\";width: 100%;border-bottom: 1px solid gray;flex-grow: 1;}#sk-container-id-23 div.sk-label:hover label.sk-toggleable__label {background-color: #d4ebff;}#sk-container-id-23 div.sk-serial::before {content: \"\";position: absolute;border-left: 1px solid gray;box-sizing: border-box;top: 0;bottom: 0;left: 50%;z-index: 0;}#sk-container-id-23 div.sk-serial {display: flex;flex-direction: column;align-items: center;background-color: white;padding-right: 0.2em;padding-left: 0.2em;position: relative;}#sk-container-id-23 div.sk-item {position: relative;z-index: 1;}#sk-container-id-23 div.sk-parallel {display: flex;align-items: stretch;justify-content: center;background-color: white;position: relative;}#sk-container-id-23 div.sk-item::before, #sk-container-id-23 div.sk-parallel-item::before {content: \"\";position: absolute;border-left: 1px solid gray;box-sizing: border-box;top: 0;bottom: 0;left: 50%;z-index: -1;}#sk-container-id-23 div.sk-parallel-item {display: flex;flex-direction: column;z-index: 1;position: relative;background-color: white;}#sk-container-id-23 div.sk-parallel-item:first-child::after {align-self: flex-end;width: 50%;}#sk-container-id-23 div.sk-parallel-item:last-child::after {align-self: flex-start;width: 50%;}#sk-container-id-23 div.sk-parallel-item:only-child::after {width: 0;}#sk-container-id-23 div.sk-dashed-wrapped {border: 1px dashed gray;margin: 0 0.4em 0.5em 0.4em;box-sizing: border-box;padding-bottom: 0.4em;background-color: white;}#sk-container-id-23 div.sk-label label {font-family: monospace;font-weight: bold;display: inline-block;line-height: 1.2em;}#sk-container-id-23 div.sk-label-container {text-align: center;}#sk-container-id-23 div.sk-container {/* jupyter's `normalize.less` sets `[hidden] { display: none; }` but bootstrap.min.css set `[hidden] { display: none !important; }` so we also need the `!important` here to be able to override the default hidden behavior on the sphinx rendered scikit-learn.org. See: https://github.com/scikit-learn/scikit-learn/issues/21755 */display: inline-block !important;position: relative;}#sk-container-id-23 div.sk-text-repr-fallback {display: none;}</style><div id=\"sk-container-id-23\" class=\"sk-top-container\"><div class=\"sk-text-repr-fallback\"><pre>DummyRegressor()</pre><b>In a Jupyter environment, please rerun this cell to show the HTML representation or trust the notebook. <br />On GitHub, the HTML representation is unable to render, please try loading this page with nbviewer.org.</b></div><div class=\"sk-container\" hidden><div class=\"sk-item\"><div class=\"sk-estimator sk-toggleable\"><input class=\"sk-toggleable__control sk-hidden--visually\" id=\"sk-estimator-id-23\" type=\"checkbox\" checked><label for=\"sk-estimator-id-23\" class=\"sk-toggleable__label sk-toggleable__label-arrow\">DummyRegressor</label><div class=\"sk-toggleable__content\"><pre>DummyRegressor()</pre></div></div></div></div></div>"
      ],
      "text/plain": [
       "DummyRegressor()"
      ]
     },
     "execution_count": 309,
     "metadata": {},
     "output_type": "execute_result"
    }
   ],
   "source": [
    "model1.fit(X = train.index.sort_values(), y = train[\"Price\"])"
   ]
  },
  {
   "cell_type": "code",
   "execution_count": 310,
   "id": "b844a71d-c9e1-4cf2-8ca8-8c266a96f9bc",
   "metadata": {},
   "outputs": [],
   "source": [
    "preds[\"const\"] = model1.predict(test.index.sort_values())"
   ]
  },
  {
   "cell_type": "code",
   "execution_count": 311,
   "id": "25694d62-68c8-4e8e-9789-98b2f1e99d00",
   "metadata": {},
   "outputs": [],
   "source": [
    "preds[\"const\"] = np.append(preds[\"const\"], model1.predict([37]))"
   ]
  },
  {
   "cell_type": "code",
   "execution_count": null,
   "id": "ad8c72a8-5d40-44de-87a0-2ad7715f8b57",
   "metadata": {},
   "outputs": [],
   "source": []
  },
  {
   "cell_type": "code",
   "execution_count": 312,
   "id": "136b5d87-7b9e-453a-b075-714e3688b094",
   "metadata": {},
   "outputs": [],
   "source": [
    "model2 = LinearRegression(fit_intercept=False)"
   ]
  },
  {
   "cell_type": "code",
   "execution_count": 313,
   "id": "772a4309-1533-4133-b283-569e89b97231",
   "metadata": {},
   "outputs": [
    {
     "data": {
      "text/html": [
       "<style>#sk-container-id-24 {color: black;}#sk-container-id-24 pre{padding: 0;}#sk-container-id-24 div.sk-toggleable {background-color: white;}#sk-container-id-24 label.sk-toggleable__label {cursor: pointer;display: block;width: 100%;margin-bottom: 0;padding: 0.3em;box-sizing: border-box;text-align: center;}#sk-container-id-24 label.sk-toggleable__label-arrow:before {content: \"▸\";float: left;margin-right: 0.25em;color: #696969;}#sk-container-id-24 label.sk-toggleable__label-arrow:hover:before {color: black;}#sk-container-id-24 div.sk-estimator:hover label.sk-toggleable__label-arrow:before {color: black;}#sk-container-id-24 div.sk-toggleable__content {max-height: 0;max-width: 0;overflow: hidden;text-align: left;background-color: #f0f8ff;}#sk-container-id-24 div.sk-toggleable__content pre {margin: 0.2em;color: black;border-radius: 0.25em;background-color: #f0f8ff;}#sk-container-id-24 input.sk-toggleable__control:checked~div.sk-toggleable__content {max-height: 200px;max-width: 100%;overflow: auto;}#sk-container-id-24 input.sk-toggleable__control:checked~label.sk-toggleable__label-arrow:before {content: \"▾\";}#sk-container-id-24 div.sk-estimator input.sk-toggleable__control:checked~label.sk-toggleable__label {background-color: #d4ebff;}#sk-container-id-24 div.sk-label input.sk-toggleable__control:checked~label.sk-toggleable__label {background-color: #d4ebff;}#sk-container-id-24 input.sk-hidden--visually {border: 0;clip: rect(1px 1px 1px 1px);clip: rect(1px, 1px, 1px, 1px);height: 1px;margin: -1px;overflow: hidden;padding: 0;position: absolute;width: 1px;}#sk-container-id-24 div.sk-estimator {font-family: monospace;background-color: #f0f8ff;border: 1px dotted black;border-radius: 0.25em;box-sizing: border-box;margin-bottom: 0.5em;}#sk-container-id-24 div.sk-estimator:hover {background-color: #d4ebff;}#sk-container-id-24 div.sk-parallel-item::after {content: \"\";width: 100%;border-bottom: 1px solid gray;flex-grow: 1;}#sk-container-id-24 div.sk-label:hover label.sk-toggleable__label {background-color: #d4ebff;}#sk-container-id-24 div.sk-serial::before {content: \"\";position: absolute;border-left: 1px solid gray;box-sizing: border-box;top: 0;bottom: 0;left: 50%;z-index: 0;}#sk-container-id-24 div.sk-serial {display: flex;flex-direction: column;align-items: center;background-color: white;padding-right: 0.2em;padding-left: 0.2em;position: relative;}#sk-container-id-24 div.sk-item {position: relative;z-index: 1;}#sk-container-id-24 div.sk-parallel {display: flex;align-items: stretch;justify-content: center;background-color: white;position: relative;}#sk-container-id-24 div.sk-item::before, #sk-container-id-24 div.sk-parallel-item::before {content: \"\";position: absolute;border-left: 1px solid gray;box-sizing: border-box;top: 0;bottom: 0;left: 50%;z-index: -1;}#sk-container-id-24 div.sk-parallel-item {display: flex;flex-direction: column;z-index: 1;position: relative;background-color: white;}#sk-container-id-24 div.sk-parallel-item:first-child::after {align-self: flex-end;width: 50%;}#sk-container-id-24 div.sk-parallel-item:last-child::after {align-self: flex-start;width: 50%;}#sk-container-id-24 div.sk-parallel-item:only-child::after {width: 0;}#sk-container-id-24 div.sk-dashed-wrapped {border: 1px dashed gray;margin: 0 0.4em 0.5em 0.4em;box-sizing: border-box;padding-bottom: 0.4em;background-color: white;}#sk-container-id-24 div.sk-label label {font-family: monospace;font-weight: bold;display: inline-block;line-height: 1.2em;}#sk-container-id-24 div.sk-label-container {text-align: center;}#sk-container-id-24 div.sk-container {/* jupyter's `normalize.less` sets `[hidden] { display: none; }` but bootstrap.min.css set `[hidden] { display: none !important; }` so we also need the `!important` here to be able to override the default hidden behavior on the sphinx rendered scikit-learn.org. See: https://github.com/scikit-learn/scikit-learn/issues/21755 */display: inline-block !important;position: relative;}#sk-container-id-24 div.sk-text-repr-fallback {display: none;}</style><div id=\"sk-container-id-24\" class=\"sk-top-container\"><div class=\"sk-text-repr-fallback\"><pre>LinearRegression(fit_intercept=False)</pre><b>In a Jupyter environment, please rerun this cell to show the HTML representation or trust the notebook. <br />On GitHub, the HTML representation is unable to render, please try loading this page with nbviewer.org.</b></div><div class=\"sk-container\" hidden><div class=\"sk-item\"><div class=\"sk-estimator sk-toggleable\"><input class=\"sk-toggleable__control sk-hidden--visually\" id=\"sk-estimator-id-24\" type=\"checkbox\" checked><label for=\"sk-estimator-id-24\" class=\"sk-toggleable__label sk-toggleable__label-arrow\">LinearRegression</label><div class=\"sk-toggleable__content\"><pre>LinearRegression(fit_intercept=False)</pre></div></div></div></div></div>"
      ],
      "text/plain": [
       "LinearRegression(fit_intercept=False)"
      ]
     },
     "execution_count": 313,
     "metadata": {},
     "output_type": "execute_result"
    }
   ],
   "source": [
    "model2.fit(X = np.array(train.index.sort_values()).reshape(-1, 1), y = train[\"Price\"])"
   ]
  },
  {
   "cell_type": "code",
   "execution_count": 314,
   "id": "ca02f07a-61f2-4c19-94dc-9239a523ba7e",
   "metadata": {},
   "outputs": [],
   "source": [
    "preds[\"kx\"] = model2.predict(np.array(test.index.sort_values()).reshape(-1, 1))"
   ]
  },
  {
   "cell_type": "code",
   "execution_count": 315,
   "id": "10e4d2f9-5142-4a63-b04d-47829c367401",
   "metadata": {},
   "outputs": [],
   "source": [
    "preds[\"kx\"] = np.append(preds[\"kx\"], model2.predict(np.array([37]).reshape(-1, 1)))"
   ]
  },
  {
   "cell_type": "code",
   "execution_count": null,
   "id": "d0895bab-1221-4dc6-9bb2-625ffa1cae90",
   "metadata": {},
   "outputs": [],
   "source": []
  },
  {
   "cell_type": "code",
   "execution_count": 316,
   "id": "764fc921-603d-4508-805d-a9a1e01fc6b7",
   "metadata": {},
   "outputs": [],
   "source": [
    "model3 = LinearRegression(fit_intercept=True)"
   ]
  },
  {
   "cell_type": "code",
   "execution_count": 317,
   "id": "ecdc8c46-6f7b-4295-a006-e8c26a2015c7",
   "metadata": {},
   "outputs": [
    {
     "data": {
      "text/html": [
       "<style>#sk-container-id-25 {color: black;}#sk-container-id-25 pre{padding: 0;}#sk-container-id-25 div.sk-toggleable {background-color: white;}#sk-container-id-25 label.sk-toggleable__label {cursor: pointer;display: block;width: 100%;margin-bottom: 0;padding: 0.3em;box-sizing: border-box;text-align: center;}#sk-container-id-25 label.sk-toggleable__label-arrow:before {content: \"▸\";float: left;margin-right: 0.25em;color: #696969;}#sk-container-id-25 label.sk-toggleable__label-arrow:hover:before {color: black;}#sk-container-id-25 div.sk-estimator:hover label.sk-toggleable__label-arrow:before {color: black;}#sk-container-id-25 div.sk-toggleable__content {max-height: 0;max-width: 0;overflow: hidden;text-align: left;background-color: #f0f8ff;}#sk-container-id-25 div.sk-toggleable__content pre {margin: 0.2em;color: black;border-radius: 0.25em;background-color: #f0f8ff;}#sk-container-id-25 input.sk-toggleable__control:checked~div.sk-toggleable__content {max-height: 200px;max-width: 100%;overflow: auto;}#sk-container-id-25 input.sk-toggleable__control:checked~label.sk-toggleable__label-arrow:before {content: \"▾\";}#sk-container-id-25 div.sk-estimator input.sk-toggleable__control:checked~label.sk-toggleable__label {background-color: #d4ebff;}#sk-container-id-25 div.sk-label input.sk-toggleable__control:checked~label.sk-toggleable__label {background-color: #d4ebff;}#sk-container-id-25 input.sk-hidden--visually {border: 0;clip: rect(1px 1px 1px 1px);clip: rect(1px, 1px, 1px, 1px);height: 1px;margin: -1px;overflow: hidden;padding: 0;position: absolute;width: 1px;}#sk-container-id-25 div.sk-estimator {font-family: monospace;background-color: #f0f8ff;border: 1px dotted black;border-radius: 0.25em;box-sizing: border-box;margin-bottom: 0.5em;}#sk-container-id-25 div.sk-estimator:hover {background-color: #d4ebff;}#sk-container-id-25 div.sk-parallel-item::after {content: \"\";width: 100%;border-bottom: 1px solid gray;flex-grow: 1;}#sk-container-id-25 div.sk-label:hover label.sk-toggleable__label {background-color: #d4ebff;}#sk-container-id-25 div.sk-serial::before {content: \"\";position: absolute;border-left: 1px solid gray;box-sizing: border-box;top: 0;bottom: 0;left: 50%;z-index: 0;}#sk-container-id-25 div.sk-serial {display: flex;flex-direction: column;align-items: center;background-color: white;padding-right: 0.2em;padding-left: 0.2em;position: relative;}#sk-container-id-25 div.sk-item {position: relative;z-index: 1;}#sk-container-id-25 div.sk-parallel {display: flex;align-items: stretch;justify-content: center;background-color: white;position: relative;}#sk-container-id-25 div.sk-item::before, #sk-container-id-25 div.sk-parallel-item::before {content: \"\";position: absolute;border-left: 1px solid gray;box-sizing: border-box;top: 0;bottom: 0;left: 50%;z-index: -1;}#sk-container-id-25 div.sk-parallel-item {display: flex;flex-direction: column;z-index: 1;position: relative;background-color: white;}#sk-container-id-25 div.sk-parallel-item:first-child::after {align-self: flex-end;width: 50%;}#sk-container-id-25 div.sk-parallel-item:last-child::after {align-self: flex-start;width: 50%;}#sk-container-id-25 div.sk-parallel-item:only-child::after {width: 0;}#sk-container-id-25 div.sk-dashed-wrapped {border: 1px dashed gray;margin: 0 0.4em 0.5em 0.4em;box-sizing: border-box;padding-bottom: 0.4em;background-color: white;}#sk-container-id-25 div.sk-label label {font-family: monospace;font-weight: bold;display: inline-block;line-height: 1.2em;}#sk-container-id-25 div.sk-label-container {text-align: center;}#sk-container-id-25 div.sk-container {/* jupyter's `normalize.less` sets `[hidden] { display: none; }` but bootstrap.min.css set `[hidden] { display: none !important; }` so we also need the `!important` here to be able to override the default hidden behavior on the sphinx rendered scikit-learn.org. See: https://github.com/scikit-learn/scikit-learn/issues/21755 */display: inline-block !important;position: relative;}#sk-container-id-25 div.sk-text-repr-fallback {display: none;}</style><div id=\"sk-container-id-25\" class=\"sk-top-container\"><div class=\"sk-text-repr-fallback\"><pre>LinearRegression()</pre><b>In a Jupyter environment, please rerun this cell to show the HTML representation or trust the notebook. <br />On GitHub, the HTML representation is unable to render, please try loading this page with nbviewer.org.</b></div><div class=\"sk-container\" hidden><div class=\"sk-item\"><div class=\"sk-estimator sk-toggleable\"><input class=\"sk-toggleable__control sk-hidden--visually\" id=\"sk-estimator-id-25\" type=\"checkbox\" checked><label for=\"sk-estimator-id-25\" class=\"sk-toggleable__label sk-toggleable__label-arrow\">LinearRegression</label><div class=\"sk-toggleable__content\"><pre>LinearRegression()</pre></div></div></div></div></div>"
      ],
      "text/plain": [
       "LinearRegression()"
      ]
     },
     "execution_count": 317,
     "metadata": {},
     "output_type": "execute_result"
    }
   ],
   "source": [
    "model3.fit(X = np.array(train.index.sort_values()).reshape(-1, 1), y = train[\"Price\"])"
   ]
  },
  {
   "cell_type": "code",
   "execution_count": 318,
   "id": "65ca1315-ae4c-40c6-a4ae-ddf7af2cd429",
   "metadata": {},
   "outputs": [],
   "source": [
    "preds[\"kx+b\"] = model3.predict(np.array(test.index.sort_values()).reshape(-1, 1))"
   ]
  },
  {
   "cell_type": "code",
   "execution_count": 319,
   "id": "935be6e9-235e-439a-b419-154d75d633f4",
   "metadata": {},
   "outputs": [],
   "source": [
    "preds[\"kx+b\"] = np.append(preds[\"kx+b\"], model3.predict(np.array([37]).reshape(-1, 1)))"
   ]
  },
  {
   "cell_type": "code",
   "execution_count": null,
   "id": "ba03625e-cd45-4f07-8028-09ee6da92bd9",
   "metadata": {},
   "outputs": [],
   "source": []
  },
  {
   "cell_type": "code",
   "execution_count": 320,
   "id": "23a1ea30-011d-49e7-ba24-8580ce4552ed",
   "metadata": {},
   "outputs": [],
   "source": [
    "model4 = LinearRegression(fit_intercept=True)"
   ]
  },
  {
   "cell_type": "code",
   "execution_count": 321,
   "id": "c89d34bf-f4d3-48f0-b687-8c3b9ff6c60c",
   "metadata": {},
   "outputs": [
    {
     "data": {
      "text/html": [
       "<style>#sk-container-id-26 {color: black;}#sk-container-id-26 pre{padding: 0;}#sk-container-id-26 div.sk-toggleable {background-color: white;}#sk-container-id-26 label.sk-toggleable__label {cursor: pointer;display: block;width: 100%;margin-bottom: 0;padding: 0.3em;box-sizing: border-box;text-align: center;}#sk-container-id-26 label.sk-toggleable__label-arrow:before {content: \"▸\";float: left;margin-right: 0.25em;color: #696969;}#sk-container-id-26 label.sk-toggleable__label-arrow:hover:before {color: black;}#sk-container-id-26 div.sk-estimator:hover label.sk-toggleable__label-arrow:before {color: black;}#sk-container-id-26 div.sk-toggleable__content {max-height: 0;max-width: 0;overflow: hidden;text-align: left;background-color: #f0f8ff;}#sk-container-id-26 div.sk-toggleable__content pre {margin: 0.2em;color: black;border-radius: 0.25em;background-color: #f0f8ff;}#sk-container-id-26 input.sk-toggleable__control:checked~div.sk-toggleable__content {max-height: 200px;max-width: 100%;overflow: auto;}#sk-container-id-26 input.sk-toggleable__control:checked~label.sk-toggleable__label-arrow:before {content: \"▾\";}#sk-container-id-26 div.sk-estimator input.sk-toggleable__control:checked~label.sk-toggleable__label {background-color: #d4ebff;}#sk-container-id-26 div.sk-label input.sk-toggleable__control:checked~label.sk-toggleable__label {background-color: #d4ebff;}#sk-container-id-26 input.sk-hidden--visually {border: 0;clip: rect(1px 1px 1px 1px);clip: rect(1px, 1px, 1px, 1px);height: 1px;margin: -1px;overflow: hidden;padding: 0;position: absolute;width: 1px;}#sk-container-id-26 div.sk-estimator {font-family: monospace;background-color: #f0f8ff;border: 1px dotted black;border-radius: 0.25em;box-sizing: border-box;margin-bottom: 0.5em;}#sk-container-id-26 div.sk-estimator:hover {background-color: #d4ebff;}#sk-container-id-26 div.sk-parallel-item::after {content: \"\";width: 100%;border-bottom: 1px solid gray;flex-grow: 1;}#sk-container-id-26 div.sk-label:hover label.sk-toggleable__label {background-color: #d4ebff;}#sk-container-id-26 div.sk-serial::before {content: \"\";position: absolute;border-left: 1px solid gray;box-sizing: border-box;top: 0;bottom: 0;left: 50%;z-index: 0;}#sk-container-id-26 div.sk-serial {display: flex;flex-direction: column;align-items: center;background-color: white;padding-right: 0.2em;padding-left: 0.2em;position: relative;}#sk-container-id-26 div.sk-item {position: relative;z-index: 1;}#sk-container-id-26 div.sk-parallel {display: flex;align-items: stretch;justify-content: center;background-color: white;position: relative;}#sk-container-id-26 div.sk-item::before, #sk-container-id-26 div.sk-parallel-item::before {content: \"\";position: absolute;border-left: 1px solid gray;box-sizing: border-box;top: 0;bottom: 0;left: 50%;z-index: -1;}#sk-container-id-26 div.sk-parallel-item {display: flex;flex-direction: column;z-index: 1;position: relative;background-color: white;}#sk-container-id-26 div.sk-parallel-item:first-child::after {align-self: flex-end;width: 50%;}#sk-container-id-26 div.sk-parallel-item:last-child::after {align-self: flex-start;width: 50%;}#sk-container-id-26 div.sk-parallel-item:only-child::after {width: 0;}#sk-container-id-26 div.sk-dashed-wrapped {border: 1px dashed gray;margin: 0 0.4em 0.5em 0.4em;box-sizing: border-box;padding-bottom: 0.4em;background-color: white;}#sk-container-id-26 div.sk-label label {font-family: monospace;font-weight: bold;display: inline-block;line-height: 1.2em;}#sk-container-id-26 div.sk-label-container {text-align: center;}#sk-container-id-26 div.sk-container {/* jupyter's `normalize.less` sets `[hidden] { display: none; }` but bootstrap.min.css set `[hidden] { display: none !important; }` so we also need the `!important` here to be able to override the default hidden behavior on the sphinx rendered scikit-learn.org. See: https://github.com/scikit-learn/scikit-learn/issues/21755 */display: inline-block !important;position: relative;}#sk-container-id-26 div.sk-text-repr-fallback {display: none;}</style><div id=\"sk-container-id-26\" class=\"sk-top-container\"><div class=\"sk-text-repr-fallback\"><pre>LinearRegression()</pre><b>In a Jupyter environment, please rerun this cell to show the HTML representation or trust the notebook. <br />On GitHub, the HTML representation is unable to render, please try loading this page with nbviewer.org.</b></div><div class=\"sk-container\" hidden><div class=\"sk-item\"><div class=\"sk-estimator sk-toggleable\"><input class=\"sk-toggleable__control sk-hidden--visually\" id=\"sk-estimator-id-26\" type=\"checkbox\" checked><label for=\"sk-estimator-id-26\" class=\"sk-toggleable__label sk-toggleable__label-arrow\">LinearRegression</label><div class=\"sk-toggleable__content\"><pre>LinearRegression()</pre></div></div></div></div></div>"
      ],
      "text/plain": [
       "LinearRegression()"
      ]
     },
     "execution_count": 321,
     "metadata": {},
     "output_type": "execute_result"
    }
   ],
   "source": [
    "model4.fit(X = np.array([*zip(train.index.sort_values(),\n",
    "                      train.index.sort_values()**2)]), y = train[\"Price\"])"
   ]
  },
  {
   "cell_type": "code",
   "execution_count": 322,
   "id": "b33c8b9f-c017-43c6-ae2c-8ecbf3501049",
   "metadata": {},
   "outputs": [],
   "source": [
    "preds[\"ax**2 + bx + c\"] = model4.predict(np.array([*zip(test.index.sort_values(),\n",
    "                      test.index.sort_values()**2)]))"
   ]
  },
  {
   "cell_type": "code",
   "execution_count": 323,
   "id": "6951505b-1e1e-4879-99ca-3067ce4b4519",
   "metadata": {},
   "outputs": [],
   "source": [
    "preds[\"ax**2 + bx + c\"] = np.append(preds[\"ax**2 + bx + c\"], model4.predict(np.array([[37, 37**2]])))"
   ]
  },
  {
   "cell_type": "code",
   "execution_count": 324,
   "id": "4b198aad-13c6-4b31-a07e-4ff438d0f2d7",
   "metadata": {},
   "outputs": [],
   "source": [
    "import matplotlib.pyplot as plt"
   ]
  },
  {
   "cell_type": "code",
   "execution_count": 325,
   "id": "24a08823-493e-4916-ba20-901eb2c39811",
   "metadata": {},
   "outputs": [],
   "source": [
    "tests = np.append(np.array(test.index.sort_values()), [37])"
   ]
  },
  {
   "cell_type": "code",
   "execution_count": 326,
   "id": "e5e91ba5-8ec4-4d71-bbab-e25c3a47393f",
   "metadata": {},
   "outputs": [
    {
     "data": {
      "text/plain": [
       "{'const': array([43069.148, 43069.148, 43069.148, 43069.148, 43069.148, 43069.148,\n",
       "        43069.148, 43069.148]),\n",
       " 'kx': array([10134.13146095, 14187.78404534, 24321.91550629, 32429.22067505,\n",
       "        44590.1784282 , 46617.00472039, 60804.78876572, 74992.57281106]),\n",
       " 'kx+b': array([43695.54304946, 43573.20026636, 43267.34330862, 43022.65774242,\n",
       "        42655.62939313, 42594.45800158, 42166.25826074, 41738.0585199 ]),\n",
       " 'ax**2 + bx + c': array([43806.79042563, 43412.5426053 , 42685.64722637, 42370.24721432,\n",
       "        42340.67434807, 42387.49037141, 43129.16120979, 44595.25972948])}"
      ]
     },
     "execution_count": 326,
     "metadata": {},
     "output_type": "execute_result"
    }
   ],
   "source": [
    "preds"
   ]
  },
  {
   "cell_type": "code",
   "execution_count": 327,
   "id": "a9ee1dfe-6a0c-4593-b15a-657e106e3313",
   "metadata": {},
   "outputs": [
    {
     "data": {
      "image/png": "[encoded data removed]",
      "text/plain": [
       "<Figure size 1500x700 with 1 Axes>"
      ]
     },
     "metadata": {},
     "output_type": "display_data"
    }
   ],
   "source": [
    "plt.figure(figsize=(15, 7))\n",
    "plt.scatter(df.index, df[\"Price\"], color = \"red\", label = \"Ground truth\")\n",
    "plt.plot(tests, preds[\"kx\"], label = \"kx\")\n",
    "plt.plot(tests, preds[\"const\"], label = \"const\", linestyle = \"dashed\")\n",
    "plt.plot(tests, preds[\"kx+b\"], label = \"kx+b\", linestyle = \"dashed\")\n",
    "plt.plot(tests, preds[\"ax**2 + bx + c\"], label = \"ax**2 + bx + c\", linestyle = \"dashed\")\n",
    "plt.scatter(df.index.sort_values()[-1] + 7, 42632.21, marker = \"*\", c = \"gold\", label = \"Price for 04.02\")\n",
    "plt.ylim(3.5e4, 5e4)\n",
    "plt.legend()\n",
    "plt.show()"
   ]
  },
  {
   "cell_type": "code",
   "execution_count": null,
   "id": "4b9d18f5-5149-44d0-a328-660a0cd17be7",
   "metadata": {},
   "outputs": [],
   "source": []
  }
 ],
 "metadata": {
  "kernelspec": {
   "display_name": "Python 3 (ipykernel)",
   "language": "python",
   "name": "python3"
  },
  "language_info": {
   "codemirror_mode": {
    "name": "ipython",
    "version": 3
   },
   "file_extension": ".py",
   "mimetype": "text/x-python",
   "name": "python",
   "nbconvert_exporter": "python",
   "pygments_lexer": "ipython3",
   "version": "3.11.6"
  }
 },
 "nbformat": 4,
 "nbformat_minor": 5
}
