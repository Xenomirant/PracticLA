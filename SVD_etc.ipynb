{
 "cells": [
  {
   "cell_type": "code",
   "execution_count": 1,
   "id": "c813ec3b-c743-4b78-be95-5c00bf6a3e9c",
   "metadata": {},
   "outputs": [],
   "source": [
    "import numpy as np\n",
    "import scipy as scp"
   ]
  },
  {
   "cell_type": "code",
   "execution_count": 2,
   "id": "2628192c-c4d8-4ee6-b2aa-ef3a0bb5c8b6",
   "metadata": {},
   "outputs": [],
   "source": [
    "A = np.array([[2, 3, 4], [-1, -2, -3], [0, 0, 1]])"
   ]
  },
  {
   "cell_type": "code",
   "execution_count": 9,
   "id": "135b5f8b-d874-48c4-b32b-30af435211fb",
   "metadata": {},
   "outputs": [
    {
     "data": {
      "text/plain": [
       "(array([[ 1. ,  0. ,  0. ],\n",
       "        [-0.5,  1. ,  0. ],\n",
       "        [ 0. , -0. ,  1. ]]),\n",
       " array([[ 2. ,  3. ,  4. ],\n",
       "        [ 0. , -0.5, -1. ],\n",
       "        [ 0. ,  0. ,  1. ]]))"
      ]
     },
     "execution_count": 9,
     "metadata": {},
     "output_type": "execute_result"
    }
   ],
   "source": [
    "scp.linalg.lu(A, permute_l=True)"
   ]
  },
  {
   "cell_type": "code",
   "execution_count": 11,
   "id": "aa8008ba-e6af-4397-b8c9-3104b0987df9",
   "metadata": {},
   "outputs": [
    {
     "data": {
      "text/plain": [
       "array([ 0., -1.,  1.])"
      ]
     },
     "execution_count": 11,
     "metadata": {},
     "output_type": "execute_result"
    }
   ],
   "source": [
    "scp.linalg.solve(A, b=np.array([1, -1, 1]))"
   ]
  },
  {
   "cell_type": "code",
   "execution_count": 12,
   "id": "4082316d-5fc1-451d-bba1-459040e6ce68",
   "metadata": {},
   "outputs": [
    {
     "data": {
      "text/plain": [
       "array([ 0., -1.,  1.])"
      ]
     },
     "execution_count": 12,
     "metadata": {},
     "output_type": "execute_result"
    }
   ],
   "source": [
    "np.linalg.solve(A, b=np.array([1, -1, 1]))"
   ]
  },
  {
   "cell_type": "code",
   "execution_count": null,
   "id": "654e7283-b3f0-48d7-b093-e1cd0749b89c",
   "metadata": {},
   "outputs": [],
   "source": []
  },
  {
   "cell_type": "code",
   "execution_count": 13,
   "id": "fa19ad8b-d337-4278-a323-05b5425de1f0",
   "metadata": {},
   "outputs": [
    {
     "data": {
      "text/plain": [
       "array([[1., 3.],\n",
       "       [0., 4.]])"
      ]
     },
     "execution_count": 13,
     "metadata": {},
     "output_type": "execute_result"
    }
   ],
   "source": [
    "scp.linalg.cholesky(np.array([[1, 3], [3, 25]]))"
   ]
  },
  {
   "cell_type": "code",
   "execution_count": null,
   "id": "2539a9fd-52cd-4aa3-8782-f5371fdb067a",
   "metadata": {},
   "outputs": [],
   "source": []
  },
  {
   "cell_type": "code",
   "execution_count": 14,
   "id": "7fa7a184-3b63-46ca-825e-2f315f1a0c84",
   "metadata": {},
   "outputs": [
    {
     "data": {
      "text/plain": [
       "array([[ 3., -1., -1.],\n",
       "       [ 0.,  1.,  1.],\n",
       "       [ 0.,  0.,  9.]])"
      ]
     },
     "execution_count": 14,
     "metadata": {},
     "output_type": "execute_result"
    }
   ],
   "source": [
    "np.array([[1/3, -2/3, 2/3], \n",
    "         [-2/3, -2/3, -1/3],\n",
    "         [2/3, -1/3, -2/3]]) @ np.array([[1, -1, 5],\n",
    "                                        [-2, 0, -3], \n",
    "                                        [2, -1, -7]])"
   ]
  },
  {
   "cell_type": "code",
   "execution_count": 15,
   "id": "6b357b17-0a56-4396-9ceb-f0510a016d1b",
   "metadata": {},
   "outputs": [
    {
     "data": {
      "text/plain": [
       "(array([[-0.33333333,  0.66666667, -0.66666667],\n",
       "        [ 0.66666667,  0.66666667,  0.33333333],\n",
       "        [-0.66666667,  0.33333333,  0.66666667]]),\n",
       " array([[-3.,  1.,  1.],\n",
       "        [ 0., -1., -1.],\n",
       "        [ 0.,  0., -9.]]))"
      ]
     },
     "execution_count": 15,
     "metadata": {},
     "output_type": "execute_result"
    }
   ],
   "source": [
    "scp.linalg.qr(np.array([[1, -1, 5], \n",
    "                        [-2, 0, -3], \n",
    "                        [2, -1, -7]]))"
   ]
  },
  {
   "cell_type": "code",
   "execution_count": null,
   "id": "a9344083-8e1a-4905-9c14-d21a2f1f30fe",
   "metadata": {},
   "outputs": [],
   "source": []
  },
  {
   "cell_type": "code",
   "execution_count": null,
   "id": "e10980c1-3cac-4915-8e7e-2ec200059d19",
   "metadata": {},
   "outputs": [],
   "source": []
  },
  {
   "cell_type": "code",
   "execution_count": 28,
   "id": "2dac01de-aaa5-4928-9695-51b520e47825",
   "metadata": {},
   "outputs": [
    {
     "data": {
      "text/plain": [
       "matrix([[0.11111111+0.j        , 0.11111111+0.11111111j,\n",
       "         0.        +0.j        ],\n",
       "        [0.11111111-0.11111111j, 0.22222222+0.j        ,\n",
       "         0.        +0.j        ],\n",
       "        [0.        +0.j        , 0.        +0.j        ,\n",
       "         0.33333333+0.j        ]])"
      ]
     },
     "execution_count": 28,
     "metadata": {},
     "output_type": "execute_result"
    }
   ],
   "source": [
    "np.array([[(-1+1j)/6**(1/2), 0, (1-1j)/3**(1/2)],\n",
    "         [2*1j/6**(1/2), 0, 1j/3**(1/2)],\n",
    "         [0, 1, 0]]) @ np.array([[1/3, 0, 0], \n",
    "                                 [0, 1/3, 0], \n",
    "                                 [0, 0, 0]]) @ np.matrix([[(-1+1j)/6**(1/2), 0, (1-1j)/3**(1/2)],\n",
    "         [2*1j/6**(1/2), 0, 1j/3**(1/2)],\n",
    "         [0, 1, 0]]).H"
   ]
  },
  {
   "cell_type": "code",
   "execution_count": null,
   "id": "e03a21d0-ebe2-41e9-ae19-2f258d38626b",
   "metadata": {},
   "outputs": [],
   "source": []
  },
  {
   "cell_type": "code",
   "execution_count": null,
   "id": "f4cd0410-5ee4-46ab-a3bd-510bf3347d71",
   "metadata": {},
   "outputs": [],
   "source": []
  },
  {
   "cell_type": "code",
   "execution_count": null,
   "id": "2ca22421-db30-4b0d-b70c-ef297a367d49",
   "metadata": {},
   "outputs": [],
   "source": []
  },
  {
   "cell_type": "code",
   "execution_count": 31,
   "id": "54973bb2-a0c9-4906-a258-97af89421689",
   "metadata": {},
   "outputs": [],
   "source": [
    "a = np.matrix([[1, 2, 3],\n",
    "              [1, 2, 3]]).T"
   ]
  },
  {
   "cell_type": "code",
   "execution_count": 33,
   "id": "3bf09113-be7c-4254-a9d1-a6be6e3f9be8",
   "metadata": {},
   "outputs": [
    {
     "data": {
      "text/plain": [
       "0.2672612419124244"
      ]
     },
     "execution_count": 33,
     "metadata": {},
     "output_type": "execute_result"
    }
   ],
   "source": [
    "1/14**(1/2)"
   ]
  },
  {
   "cell_type": "code",
   "execution_count": 32,
   "id": "0fed5596-2ceb-46fb-a142-9b21f1029dfb",
   "metadata": {},
   "outputs": [
    {
     "data": {
      "text/plain": [
       "(array([[-0.26726124,  0.95618289,  0.11952286],\n",
       "        [-0.53452248, -0.04390192, -0.84401323],\n",
       "        [-0.80178373, -0.28945968,  0.52283453]]),\n",
       " array([5.29150262e+00, 7.02166694e-16]),\n",
       " array([[-0.70710678, -0.70710678],\n",
       "        [-0.70710678,  0.70710678]]))"
      ]
     },
     "execution_count": 32,
     "metadata": {},
     "output_type": "execute_result"
    }
   ],
   "source": [
    "scp.linalg.svd(a)"
   ]
  },
  {
   "cell_type": "code",
   "execution_count": null,
   "id": "a113ed78-c3e1-4846-a071-71b410068bcc",
   "metadata": {},
   "outputs": [],
   "source": []
  },
  {
   "cell_type": "code",
   "execution_count": 34,
   "id": "e9ba918d-f9d3-41fc-8d0d-2154bfa21867",
   "metadata": {},
   "outputs": [],
   "source": [
    "A = np.array([[7, 1, 2],\n",
    "         [5, 5, 2],\n",
    "         [3, 3, 6],\n",
    "         [1, 7, 2]])"
   ]
  },
  {
   "cell_type": "code",
   "execution_count": 35,
   "id": "86bf3fa3-ae25-4115-b3b3-0e5ab576724f",
   "metadata": {},
   "outputs": [
    {
     "data": {
      "text/plain": [
       "array([[84, 48, 44],\n",
       "       [48, 84, 44],\n",
       "       [44, 44, 48]])"
      ]
     },
     "execution_count": 35,
     "metadata": {},
     "output_type": "execute_result"
    }
   ],
   "source": [
    "A.T@A"
   ]
  },
  {
   "cell_type": "code",
   "execution_count": null,
   "id": "68216d72-b58e-47a5-8b1b-cad2704e1b59",
   "metadata": {},
   "outputs": [],
   "source": []
  }
 ],
 "metadata": {
  "kernelspec": {
   "display_name": "Python 3 (ipykernel)",
   "language": "python",
   "name": "python3"
  },
  "language_info": {
   "codemirror_mode": {
    "name": "ipython",
    "version": 3
   },
   "file_extension": ".py",
   "mimetype": "text/x-python",
   "name": "python",
   "nbconvert_exporter": "python",
   "pygments_lexer": "ipython3",
   "version": "3.11.7"
  }
 },
 "nbformat": 4,
 "nbformat_minor": 5
}
